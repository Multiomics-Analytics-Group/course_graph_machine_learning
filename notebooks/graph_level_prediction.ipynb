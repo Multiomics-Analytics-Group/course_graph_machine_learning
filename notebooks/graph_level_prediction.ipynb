{
 "cells": [
  {
   "cell_type": "markdown",
   "id": "372e96db-6e2e-452e-bb06-d9e679d8c55c",
   "metadata": {},
   "source": [
    "# Course 27666 AI-guided Protein Science\n",
    "\n",
    "# Graph Machine Learning"
   ]
  },
  {
   "cell_type": "markdown",
   "id": "df708e23-e369-455b-8c93-4af428fcff61",
   "metadata": {},
   "source": [
    "# HIV Inhibitor Prediction\n",
    "\n",
    "## A Graph-level Task\n",
    "\n",
    "Human immunodeficiency virus type 1 (HIV-1) is the most common cause of Acquired Immunodeficiency Syndrome (AIDS). One ongoing area of research is finding compounds that inhibit HIV-1 viral replication.\n",
    "\n",
    "![HIV](https://ars.els-cdn.com/content/image/1-s2.0-S0968089619306704-ga1.jpg)\n",
    "\n",
    "\n",
    "\n",
    "Using dataaset from: [dgl](https://www.dgl.ai/)"
   ]
  },
  {
   "cell_type": "code",
   "execution_count": 89,
   "id": "35554e3c-9bec-414e-b962-5e98e555d2b5",
   "metadata": {},
   "outputs": [],
   "source": [
    "import pandas as pd"
   ]
  },
  {
   "cell_type": "code",
   "execution_count": 90,
   "id": "a98fa98e-2dc7-4a85-bdb1-0045d76485e4",
   "metadata": {},
   "outputs": [],
   "source": [
    "hiv_dataset = pd.read_csv('../data/hiv_dgl.tsv', sep='\\t')"
   ]
  },
  {
   "cell_type": "code",
   "execution_count": 91,
   "id": "f52b227d-5d98-4ab9-bbd6-44f7c9b21bf3",
   "metadata": {},
   "outputs": [
    {
     "data": {
      "text/html": [
       "<div>\n",
       "<style scoped>\n",
       "    .dataframe tbody tr th:only-of-type {\n",
       "        vertical-align: middle;\n",
       "    }\n",
       "\n",
       "    .dataframe tbody tr th {\n",
       "        vertical-align: top;\n",
       "    }\n",
       "\n",
       "    .dataframe thead th {\n",
       "        text-align: right;\n",
       "    }\n",
       "</style>\n",
       "<table border=\"1\" class=\"dataframe\">\n",
       "  <thead>\n",
       "    <tr style=\"text-align: right;\">\n",
       "      <th></th>\n",
       "      <th>smiles</th>\n",
       "      <th>HIV_active</th>\n",
       "    </tr>\n",
       "  </thead>\n",
       "  <tbody>\n",
       "    <tr>\n",
       "      <th>0</th>\n",
       "      <td>CCC1=[O+][Cu-3]2([O+]=C(CC)C1)[O+]=C(CC)CC(CC)...</td>\n",
       "      <td>0</td>\n",
       "    </tr>\n",
       "    <tr>\n",
       "      <th>1</th>\n",
       "      <td>C(=Cc1ccccc1)C1=[O+][Cu-3]2([O+]=C(C=Cc3ccccc3...</td>\n",
       "      <td>0</td>\n",
       "    </tr>\n",
       "    <tr>\n",
       "      <th>2</th>\n",
       "      <td>CC(=O)N1c2ccccc2Sc2c1ccc1ccccc21</td>\n",
       "      <td>0</td>\n",
       "    </tr>\n",
       "    <tr>\n",
       "      <th>3</th>\n",
       "      <td>Nc1ccc(C=Cc2ccc(N)cc2S(=O)(=O)O)c(S(=O)(=O)O)c1</td>\n",
       "      <td>0</td>\n",
       "    </tr>\n",
       "    <tr>\n",
       "      <th>4</th>\n",
       "      <td>O=S(=O)(O)CCS(=O)(=O)O</td>\n",
       "      <td>0</td>\n",
       "    </tr>\n",
       "  </tbody>\n",
       "</table>\n",
       "</div>"
      ],
      "text/plain": [
       "                                              smiles  HIV_active\n",
       "0  CCC1=[O+][Cu-3]2([O+]=C(CC)C1)[O+]=C(CC)CC(CC)...           0\n",
       "1  C(=Cc1ccccc1)C1=[O+][Cu-3]2([O+]=C(C=Cc3ccccc3...           0\n",
       "2                   CC(=O)N1c2ccccc2Sc2c1ccc1ccccc21           0\n",
       "3    Nc1ccc(C=Cc2ccc(N)cc2S(=O)(=O)O)c(S(=O)(=O)O)c1           0\n",
       "4                             O=S(=O)(O)CCS(=O)(=O)O           0"
      ]
     },
     "execution_count": 91,
     "metadata": {},
     "output_type": "execute_result"
    }
   ],
   "source": [
    "hiv_dataset.head()"
   ]
  },
  {
   "cell_type": "markdown",
   "id": "1a999603-ed98-4e87-879d-79e16204c6fa",
   "metadata": {},
   "source": [
    "## Using SMILES Graph to Predict HIV Inhibition\n",
    "\n",
    "We will make use of [Graphein](https://graphein.ai/) to convert SMILES into a Molecular Graph making sure to collect molecular features that can be incorporated to the prediction model."
   ]
  },
  {
   "cell_type": "code",
   "execution_count": 92,
   "id": "437d68dd-d8b0-49d0-b993-8ed2ab3c6b91",
   "metadata": {},
   "outputs": [],
   "source": [
    "import graphein.molecule as gm\n",
    "from functools import partial"
   ]
  },
  {
   "cell_type": "code",
   "execution_count": 93,
   "id": "d4289d0f-33c7-4ce3-a7b5-f9543b692de6",
   "metadata": {},
   "outputs": [],
   "source": [
    "config = gm.MoleculeGraphConfig(\n",
    "    node_metadata_functions=[\n",
    "        gm.atom_type_one_hot,\n",
    "        gm.atomic_mass,\n",
    "        gm.degree,\n",
    "        gm.total_degree,\n",
    "        gm.total_valence,\n",
    "        gm.explicit_valence,\n",
    "        gm.implicit_valence,\n",
    "        gm.num_explicit_h,\n",
    "        gm.num_implicit_h,\n",
    "        gm.total_num_h,\n",
    "        gm.num_radical_electrons,\n",
    "        gm.formal_charge,\n",
    "        gm.hybridization,\n",
    "        gm.is_aromatic,\n",
    "        gm.is_isotope,\n",
    "        gm.is_ring,\n",
    "        gm.chiral_tag,\n",
    "        partial(gm.is_ring_size, ring_size=5),\n",
    "        partial(gm.is_ring_size, ring_size=7)\n",
    "    ]\n",
    ")\n"
   ]
  },
  {
   "cell_type": "code",
   "execution_count": 94,
   "id": "dab8c2ae-3ee8-4c3c-879f-d190b2d15fed",
   "metadata": {},
   "outputs": [
    {
     "name": "stderr",
     "output_type": "stream",
     "text": [
      "[03:44:08] Explicit valence for atom # 3 Al, 6, is greater than permitted\n",
      "[03:44:08] Explicit valence for atom # 5 B, 5, is greater than permitted\n",
      "[03:44:21] Explicit valence for atom # 16 Al, 9, is greater than permitted\n",
      "[03:44:23] Explicit valence for atom # 4 Al, 9, is greater than permitted\n",
      "[03:44:38] Explicit valence for atom # 12 Al, 7, is greater than permitted\n",
      "[03:44:38] Explicit valence for atom # 13 Al, 7, is greater than permitted\n",
      "[03:44:40] WARNING: not removing hydrogen atom without neighbors\n",
      "[03:44:40] WARNING: not removing hydrogen atom without neighbors\n",
      "[03:44:41] Explicit valence for atom # 6 Ge, 5, is greater than permitted\n"
     ]
    }
   ],
   "source": [
    "graphs = []\n",
    "labels = []\n",
    "for index,row in hiv_dataset[['smiles','HIV_active']].iterrows():\n",
    "    try:\n",
    "        graph = gm.construct_graph(smiles=row[\"smiles\"], config=config)\n",
    "        graphs.append(graph)\n",
    "        labels.append(row[\"HIV_active\"])\n",
    "    except:\n",
    "        pass        "
   ]
  },
  {
   "cell_type": "markdown",
   "id": "be3014a9-2867-443e-abad-9f39123e62d2",
   "metadata": {},
   "source": [
    "### Multiple Graphs"
   ]
  },
  {
   "cell_type": "code",
   "execution_count": 95,
   "id": "f3898679-9854-4eb2-9003-a033b7b1090d",
   "metadata": {},
   "outputs": [
    {
     "data": {
      "text/plain": [
       "NodeDataView({'C:0': {'atomic_num': 6, 'element': 'C', 'rdmol_atom': <rdkit.Chem.rdchem.Atom object at 0x3fd045150>, 'coords': None, 'atom_type_one_hot': array([1, 0, 0, 0, 0, 0, 0, 0, 0, 0, 0]), 'mass': 12.011, 'degree': 1, 'total_degree': 4, 'total_valence': 4, 'explicit_valence': 1, 'implicit_valence': 3, 'num_explicit_h': 0, 'num_implicit_h': 3, 'total_num_h': 3, 'num_radical_electrons': 0, 'formal_charge': 0, 'hybridization': rdkit.Chem.rdchem.HybridizationType.SP3, 'is_aromatic': False, 'is_isotope': 0, 'is_ring': False, 'chiral_tag': rdkit.Chem.rdchem.ChiralType.CHI_UNSPECIFIED, 'is_ring_5': False, 'is_ring_7': False}, 'C:1': {'atomic_num': 6, 'element': 'C', 'rdmol_atom': <rdkit.Chem.rdchem.Atom object at 0x3fd045460>, 'coords': None, 'atom_type_one_hot': array([1, 0, 0, 0, 0, 0, 0, 0, 0, 0, 0]), 'mass': 12.011, 'degree': 2, 'total_degree': 4, 'total_valence': 4, 'explicit_valence': 2, 'implicit_valence': 2, 'num_explicit_h': 0, 'num_implicit_h': 2, 'total_num_h': 2, 'num_radical_electrons': 0, 'formal_charge': 0, 'hybridization': rdkit.Chem.rdchem.HybridizationType.SP3, 'is_aromatic': False, 'is_isotope': 0, 'is_ring': False, 'chiral_tag': rdkit.Chem.rdchem.ChiralType.CHI_UNSPECIFIED, 'is_ring_5': False, 'is_ring_7': False}, 'C:2': {'atomic_num': 6, 'element': 'C', 'rdmol_atom': <rdkit.Chem.rdchem.Atom object at 0x3fd0454d0>, 'coords': None, 'atom_type_one_hot': array([1, 0, 0, 0, 0, 0, 0, 0, 0, 0, 0]), 'mass': 12.011, 'degree': 3, 'total_degree': 3, 'total_valence': 4, 'explicit_valence': 4, 'implicit_valence': 0, 'num_explicit_h': 0, 'num_implicit_h': 0, 'total_num_h': 0, 'num_radical_electrons': 0, 'formal_charge': 0, 'hybridization': rdkit.Chem.rdchem.HybridizationType.SP2, 'is_aromatic': False, 'is_isotope': 0, 'is_ring': True, 'chiral_tag': rdkit.Chem.rdchem.ChiralType.CHI_UNSPECIFIED, 'is_ring_5': False, 'is_ring_7': False}, 'O:3': {'atomic_num': 8, 'element': 'O', 'rdmol_atom': <rdkit.Chem.rdchem.Atom object at 0x3fd045540>, 'coords': None, 'atom_type_one_hot': array([0, 0, 1, 0, 0, 0, 0, 0, 0, 0, 0]), 'mass': 15.999, 'degree': 2, 'total_degree': 2, 'total_valence': 3, 'explicit_valence': 3, 'implicit_valence': 0, 'num_explicit_h': 0, 'num_implicit_h': 0, 'total_num_h': 0, 'num_radical_electrons': 0, 'formal_charge': 1, 'hybridization': rdkit.Chem.rdchem.HybridizationType.SP2, 'is_aromatic': False, 'is_isotope': 0, 'is_ring': True, 'chiral_tag': rdkit.Chem.rdchem.ChiralType.CHI_UNSPECIFIED, 'is_ring_5': False, 'is_ring_7': False}, 'Cu:4': {'atomic_num': 29, 'element': 'Cu', 'rdmol_atom': <rdkit.Chem.rdchem.Atom object at 0x3fd045620>, 'coords': None, 'atom_type_one_hot': array([0, 0, 0, 0, 0, 0, 0, 0, 0, 0, 0]), 'mass': 63.546, 'degree': 4, 'total_degree': 4, 'total_valence': 4, 'explicit_valence': 4, 'implicit_valence': 0, 'num_explicit_h': 0, 'num_implicit_h': 0, 'total_num_h': 0, 'num_radical_electrons': 0, 'formal_charge': -3, 'hybridization': rdkit.Chem.rdchem.HybridizationType.UNSPECIFIED, 'is_aromatic': False, 'is_isotope': 0, 'is_ring': True, 'chiral_tag': rdkit.Chem.rdchem.ChiralType.CHI_UNSPECIFIED, 'is_ring_5': False, 'is_ring_7': False}, 'O:5': {'atomic_num': 8, 'element': 'O', 'rdmol_atom': <rdkit.Chem.rdchem.Atom object at 0x3fd045690>, 'coords': None, 'atom_type_one_hot': array([0, 0, 1, 0, 0, 0, 0, 0, 0, 0, 0]), 'mass': 15.999, 'degree': 2, 'total_degree': 2, 'total_valence': 3, 'explicit_valence': 3, 'implicit_valence': 0, 'num_explicit_h': 0, 'num_implicit_h': 0, 'total_num_h': 0, 'num_radical_electrons': 0, 'formal_charge': 1, 'hybridization': rdkit.Chem.rdchem.HybridizationType.SP2, 'is_aromatic': False, 'is_isotope': 0, 'is_ring': True, 'chiral_tag': rdkit.Chem.rdchem.ChiralType.CHI_UNSPECIFIED, 'is_ring_5': False, 'is_ring_7': False}, 'C:6': {'atomic_num': 6, 'element': 'C', 'rdmol_atom': <rdkit.Chem.rdchem.Atom object at 0x3fd045700>, 'coords': None, 'atom_type_one_hot': array([1, 0, 0, 0, 0, 0, 0, 0, 0, 0, 0]), 'mass': 12.011, 'degree': 3, 'total_degree': 3, 'total_valence': 4, 'explicit_valence': 4, 'implicit_valence': 0, 'num_explicit_h': 0, 'num_implicit_h': 0, 'total_num_h': 0, 'num_radical_electrons': 0, 'formal_charge': 0, 'hybridization': rdkit.Chem.rdchem.HybridizationType.SP2, 'is_aromatic': False, 'is_isotope': 0, 'is_ring': True, 'chiral_tag': rdkit.Chem.rdchem.ChiralType.CHI_UNSPECIFIED, 'is_ring_5': False, 'is_ring_7': False}, 'C:7': {'atomic_num': 6, 'element': 'C', 'rdmol_atom': <rdkit.Chem.rdchem.Atom object at 0x3fd045770>, 'coords': None, 'atom_type_one_hot': array([1, 0, 0, 0, 0, 0, 0, 0, 0, 0, 0]), 'mass': 12.011, 'degree': 2, 'total_degree': 4, 'total_valence': 4, 'explicit_valence': 2, 'implicit_valence': 2, 'num_explicit_h': 0, 'num_implicit_h': 2, 'total_num_h': 2, 'num_radical_electrons': 0, 'formal_charge': 0, 'hybridization': rdkit.Chem.rdchem.HybridizationType.SP3, 'is_aromatic': False, 'is_isotope': 0, 'is_ring': False, 'chiral_tag': rdkit.Chem.rdchem.ChiralType.CHI_UNSPECIFIED, 'is_ring_5': False, 'is_ring_7': False}, 'C:8': {'atomic_num': 6, 'element': 'C', 'rdmol_atom': <rdkit.Chem.rdchem.Atom object at 0x3fd0457e0>, 'coords': None, 'atom_type_one_hot': array([1, 0, 0, 0, 0, 0, 0, 0, 0, 0, 0]), 'mass': 12.011, 'degree': 1, 'total_degree': 4, 'total_valence': 4, 'explicit_valence': 1, 'implicit_valence': 3, 'num_explicit_h': 0, 'num_implicit_h': 3, 'total_num_h': 3, 'num_radical_electrons': 0, 'formal_charge': 0, 'hybridization': rdkit.Chem.rdchem.HybridizationType.SP3, 'is_aromatic': False, 'is_isotope': 0, 'is_ring': False, 'chiral_tag': rdkit.Chem.rdchem.ChiralType.CHI_UNSPECIFIED, 'is_ring_5': False, 'is_ring_7': False}, 'C:9': {'atomic_num': 6, 'element': 'C', 'rdmol_atom': <rdkit.Chem.rdchem.Atom object at 0x3fd045850>, 'coords': None, 'atom_type_one_hot': array([1, 0, 0, 0, 0, 0, 0, 0, 0, 0, 0]), 'mass': 12.011, 'degree': 2, 'total_degree': 4, 'total_valence': 4, 'explicit_valence': 2, 'implicit_valence': 2, 'num_explicit_h': 0, 'num_implicit_h': 2, 'total_num_h': 2, 'num_radical_electrons': 0, 'formal_charge': 0, 'hybridization': rdkit.Chem.rdchem.HybridizationType.SP3, 'is_aromatic': False, 'is_isotope': 0, 'is_ring': True, 'chiral_tag': rdkit.Chem.rdchem.ChiralType.CHI_UNSPECIFIED, 'is_ring_5': False, 'is_ring_7': False}, 'O:10': {'atomic_num': 8, 'element': 'O', 'rdmol_atom': <rdkit.Chem.rdchem.Atom object at 0x3fd0458c0>, 'coords': None, 'atom_type_one_hot': array([0, 0, 1, 0, 0, 0, 0, 0, 0, 0, 0]), 'mass': 15.999, 'degree': 2, 'total_degree': 2, 'total_valence': 3, 'explicit_valence': 3, 'implicit_valence': 0, 'num_explicit_h': 0, 'num_implicit_h': 0, 'total_num_h': 0, 'num_radical_electrons': 0, 'formal_charge': 1, 'hybridization': rdkit.Chem.rdchem.HybridizationType.SP2, 'is_aromatic': False, 'is_isotope': 0, 'is_ring': True, 'chiral_tag': rdkit.Chem.rdchem.ChiralType.CHI_UNSPECIFIED, 'is_ring_5': False, 'is_ring_7': False}, 'C:11': {'atomic_num': 6, 'element': 'C', 'rdmol_atom': <rdkit.Chem.rdchem.Atom object at 0x3fd045930>, 'coords': None, 'atom_type_one_hot': array([1, 0, 0, 0, 0, 0, 0, 0, 0, 0, 0]), 'mass': 12.011, 'degree': 3, 'total_degree': 3, 'total_valence': 4, 'explicit_valence': 4, 'implicit_valence': 0, 'num_explicit_h': 0, 'num_implicit_h': 0, 'total_num_h': 0, 'num_radical_electrons': 0, 'formal_charge': 0, 'hybridization': rdkit.Chem.rdchem.HybridizationType.SP2, 'is_aromatic': False, 'is_isotope': 0, 'is_ring': True, 'chiral_tag': rdkit.Chem.rdchem.ChiralType.CHI_UNSPECIFIED, 'is_ring_5': False, 'is_ring_7': False}, 'C:12': {'atomic_num': 6, 'element': 'C', 'rdmol_atom': <rdkit.Chem.rdchem.Atom object at 0x3fd0459a0>, 'coords': None, 'atom_type_one_hot': array([1, 0, 0, 0, 0, 0, 0, 0, 0, 0, 0]), 'mass': 12.011, 'degree': 2, 'total_degree': 4, 'total_valence': 4, 'explicit_valence': 2, 'implicit_valence': 2, 'num_explicit_h': 0, 'num_implicit_h': 2, 'total_num_h': 2, 'num_radical_electrons': 0, 'formal_charge': 0, 'hybridization': rdkit.Chem.rdchem.HybridizationType.SP3, 'is_aromatic': False, 'is_isotope': 0, 'is_ring': False, 'chiral_tag': rdkit.Chem.rdchem.ChiralType.CHI_UNSPECIFIED, 'is_ring_5': False, 'is_ring_7': False}, 'C:13': {'atomic_num': 6, 'element': 'C', 'rdmol_atom': <rdkit.Chem.rdchem.Atom object at 0x3fd045a10>, 'coords': None, 'atom_type_one_hot': array([1, 0, 0, 0, 0, 0, 0, 0, 0, 0, 0]), 'mass': 12.011, 'degree': 1, 'total_degree': 4, 'total_valence': 4, 'explicit_valence': 1, 'implicit_valence': 3, 'num_explicit_h': 0, 'num_implicit_h': 3, 'total_num_h': 3, 'num_radical_electrons': 0, 'formal_charge': 0, 'hybridization': rdkit.Chem.rdchem.HybridizationType.SP3, 'is_aromatic': False, 'is_isotope': 0, 'is_ring': False, 'chiral_tag': rdkit.Chem.rdchem.ChiralType.CHI_UNSPECIFIED, 'is_ring_5': False, 'is_ring_7': False}, 'C:14': {'atomic_num': 6, 'element': 'C', 'rdmol_atom': <rdkit.Chem.rdchem.Atom object at 0x3fd045a80>, 'coords': None, 'atom_type_one_hot': array([1, 0, 0, 0, 0, 0, 0, 0, 0, 0, 0]), 'mass': 12.011, 'degree': 2, 'total_degree': 4, 'total_valence': 4, 'explicit_valence': 2, 'implicit_valence': 2, 'num_explicit_h': 0, 'num_implicit_h': 2, 'total_num_h': 2, 'num_radical_electrons': 0, 'formal_charge': 0, 'hybridization': rdkit.Chem.rdchem.HybridizationType.SP3, 'is_aromatic': False, 'is_isotope': 0, 'is_ring': True, 'chiral_tag': rdkit.Chem.rdchem.ChiralType.CHI_UNSPECIFIED, 'is_ring_5': False, 'is_ring_7': False}, 'C:15': {'atomic_num': 6, 'element': 'C', 'rdmol_atom': <rdkit.Chem.rdchem.Atom object at 0x3fd045af0>, 'coords': None, 'atom_type_one_hot': array([1, 0, 0, 0, 0, 0, 0, 0, 0, 0, 0]), 'mass': 12.011, 'degree': 3, 'total_degree': 3, 'total_valence': 4, 'explicit_valence': 4, 'implicit_valence': 0, 'num_explicit_h': 0, 'num_implicit_h': 0, 'total_num_h': 0, 'num_radical_electrons': 0, 'formal_charge': 0, 'hybridization': rdkit.Chem.rdchem.HybridizationType.SP2, 'is_aromatic': False, 'is_isotope': 0, 'is_ring': True, 'chiral_tag': rdkit.Chem.rdchem.ChiralType.CHI_UNSPECIFIED, 'is_ring_5': False, 'is_ring_7': False}, 'C:16': {'atomic_num': 6, 'element': 'C', 'rdmol_atom': <rdkit.Chem.rdchem.Atom object at 0x3fd045b60>, 'coords': None, 'atom_type_one_hot': array([1, 0, 0, 0, 0, 0, 0, 0, 0, 0, 0]), 'mass': 12.011, 'degree': 2, 'total_degree': 4, 'total_valence': 4, 'explicit_valence': 2, 'implicit_valence': 2, 'num_explicit_h': 0, 'num_implicit_h': 2, 'total_num_h': 2, 'num_radical_electrons': 0, 'formal_charge': 0, 'hybridization': rdkit.Chem.rdchem.HybridizationType.SP3, 'is_aromatic': False, 'is_isotope': 0, 'is_ring': False, 'chiral_tag': rdkit.Chem.rdchem.ChiralType.CHI_UNSPECIFIED, 'is_ring_5': False, 'is_ring_7': False}, 'C:17': {'atomic_num': 6, 'element': 'C', 'rdmol_atom': <rdkit.Chem.rdchem.Atom object at 0x3fd045bd0>, 'coords': None, 'atom_type_one_hot': array([1, 0, 0, 0, 0, 0, 0, 0, 0, 0, 0]), 'mass': 12.011, 'degree': 1, 'total_degree': 4, 'total_valence': 4, 'explicit_valence': 1, 'implicit_valence': 3, 'num_explicit_h': 0, 'num_implicit_h': 3, 'total_num_h': 3, 'num_radical_electrons': 0, 'formal_charge': 0, 'hybridization': rdkit.Chem.rdchem.HybridizationType.SP3, 'is_aromatic': False, 'is_isotope': 0, 'is_ring': False, 'chiral_tag': rdkit.Chem.rdchem.ChiralType.CHI_UNSPECIFIED, 'is_ring_5': False, 'is_ring_7': False}, 'O:18': {'atomic_num': 8, 'element': 'O', 'rdmol_atom': <rdkit.Chem.rdchem.Atom object at 0x3fd045c40>, 'coords': None, 'atom_type_one_hot': array([0, 0, 1, 0, 0, 0, 0, 0, 0, 0, 0]), 'mass': 15.999, 'degree': 2, 'total_degree': 2, 'total_valence': 3, 'explicit_valence': 3, 'implicit_valence': 0, 'num_explicit_h': 0, 'num_implicit_h': 0, 'total_num_h': 0, 'num_radical_electrons': 0, 'formal_charge': 1, 'hybridization': rdkit.Chem.rdchem.HybridizationType.SP2, 'is_aromatic': False, 'is_isotope': 0, 'is_ring': True, 'chiral_tag': rdkit.Chem.rdchem.ChiralType.CHI_UNSPECIFIED, 'is_ring_5': False, 'is_ring_7': False}})"
      ]
     },
     "execution_count": 95,
     "metadata": {},
     "output_type": "execute_result"
    }
   ],
   "source": [
    "graphs[0].nodes(data=True)"
   ]
  },
  {
   "cell_type": "markdown",
   "id": "16df665b-6786-49b6-9ecf-2bdee9fbe824",
   "metadata": {},
   "source": [
    "### Converting to PyG Datasets"
   ]
  },
  {
   "cell_type": "code",
   "execution_count": 81,
   "id": "fe06426b-6c32-417b-8add-2bccb51f933d",
   "metadata": {},
   "outputs": [],
   "source": [
    "import networkx as nx\n",
    "from torch_geometric.data import Data, DataLoader\n",
    "from torch.utils.data import random_split"
   ]
  },
  {
   "cell_type": "code",
   "execution_count": 82,
   "id": "2d873e1a-c7c3-43eb-ba22-e5e90be8ca7d",
   "metadata": {},
   "outputs": [],
   "source": [
    "pygraphs = []\n",
    "for i, g in enumerate(graphs):\n",
    "    mapping = {n:int(n.split(\":\")[1]) for n in g.nodes()}\n",
    "    g = nx.relabel_nodes(g, mapping)\n",
    "    source_nodes = [n1 for n1,n2 in list(g.edges())]\n",
    "    target_nodes = [n2 for n1,n2 in list(g.edges())]\n",
    "    edge_indices = torch.tensor([source_nodes,\n",
    "                                 target_nodes],\n",
    "                                dtype=torch.long)\n",
    "    atom_features = torch.tensor([[g.nodes[node][\"atomic_num\"]] for node in g.nodes()], dtype=torch.float)\n",
    "    # Create graph data\n",
    "    data = Data(x=atom_features, edge_index=edge_indices)\n",
    "    pygraphs.append(data)"
   ]
  },
  {
   "cell_type": "markdown",
   "id": "c9ddef72-db21-4a20-8485-5ac8c401176b",
   "metadata": {},
   "source": [
    "### Adding the Labels HIV_activity"
   ]
  },
  {
   "cell_type": "code",
   "execution_count": 83,
   "id": "b270704d-d70e-4e73-8506-85fb811b2275",
   "metadata": {},
   "outputs": [],
   "source": [
    "for i, g in enumerate(pygraphs):\n",
    "    g.y = torch.tensor([labels[i]], dtype=torch.long)"
   ]
  },
  {
   "cell_type": "markdown",
   "id": "bf621faf-63ae-4ab3-b8cb-8de9039c182d",
   "metadata": {},
   "source": [
    "### Splitting into Training and Test"
   ]
  },
  {
   "cell_type": "code",
   "execution_count": 96,
   "id": "444878e5-914d-4a68-b89f-bdc5b6e6004f",
   "metadata": {},
   "outputs": [],
   "source": [
    "# Split dataset into training and test sets\n",
    "train_size = int(0.7 * len(graphs))\n",
    "test_size = len(graphs) - train_size\n",
    "train_dataset, test_dataset = random_split(pygraphs, [train_size, test_size])"
   ]
  },
  {
   "cell_type": "markdown",
   "id": "d0f4faf3-33d2-44bf-be12-d6a70166d15a",
   "metadata": {},
   "source": [
    "### Create Dataloaders\n",
    "\n",
    "Memory efficient."
   ]
  },
  {
   "cell_type": "code",
   "execution_count": null,
   "id": "f3d9854a-ac28-4295-b6dc-16cb04aef5a7",
   "metadata": {},
   "outputs": [],
   "source": [
    "# Create DataLoaders\n",
    "train_loader = DataLoader(train_dataset, batch_size=32, shuffle=True)\n",
    "test_loader = DataLoader(test_dataset, batch_size=32, shuffle=False)"
   ]
  },
  {
   "cell_type": "markdown",
   "id": "038f3cc9-69a3-4c52-8fa0-22cea42883cd",
   "metadata": {},
   "source": [
    "### Define GNN Model"
   ]
  },
  {
   "cell_type": "code",
   "execution_count": 97,
   "id": "b231e49b-1f2c-4a4d-b064-b8b3ad1ac62f",
   "metadata": {},
   "outputs": [],
   "source": [
    "class GNN(torch.nn.Module):\n",
    "    def __init__(self, input_dim, hidden_dim, output_dim):\n",
    "        super(GNN, self).__init__()\n",
    "        self.conv1 = GCNConv(input_dim, hidden_dim)\n",
    "        self.conv2 = GCNConv(hidden_dim, hidden_dim)\n",
    "        self.fc = torch.nn.Linear(hidden_dim, output_dim) # maps the learned graph-level feature representations to the output space, enabling prediction tasks.\n",
    "\n",
    "    def forward(self, x, edge_index, batch):\n",
    "        x = self.conv1(x, edge_index)\n",
    "        x = F.relu(x)\n",
    "        x = self.conv2(x, edge_index)\n",
    "        x = global_mean_pool(x, batch) # Essential for aggregating node-level features into a single graph-level feature vector.\n",
    "        x = self.fc(x)\n",
    "        return F.log_softmax(x, dim=1)\n",
    "\n",
    "# Initialize model, loss, and optimizer\n",
    "model = GNN(input_dim=1, hidden_dim=16, output_dim=2)\n",
    "optimizer = torch.optim.Adam(model.parameters(), lr=0.01)"
   ]
  },
  {
   "cell_type": "markdown",
   "id": "81ee4458-83c2-4927-8343-2a375199b316",
   "metadata": {},
   "source": [
    "### Training Loop"
   ]
  },
  {
   "cell_type": "code",
   "execution_count": 98,
   "id": "660e05a7-bd49-47f4-9a06-4b161e220976",
   "metadata": {},
   "outputs": [
    {
     "name": "stdout",
     "output_type": "stream",
     "text": [
      "Epoch 1, Loss: 163.6136\n",
      "Epoch 2, Loss: 158.2353\n",
      "Epoch 3, Loss: 156.9965\n",
      "Epoch 4, Loss: 156.5264\n",
      "Epoch 5, Loss: 156.3342\n",
      "Epoch 6, Loss: 156.6514\n",
      "Epoch 7, Loss: 156.3196\n",
      "Epoch 8, Loss: 156.4906\n",
      "Epoch 9, Loss: 156.5302\n",
      "Epoch 10, Loss: 156.2864\n"
     ]
    }
   ],
   "source": [
    "for epoch in range(10):\n",
    "    model.train()\n",
    "    total_loss = 0\n",
    "    for data in train_loader:\n",
    "        optimizer.zero_grad()\n",
    "        out = model(data.x, data.edge_index, data.batch)\n",
    "        loss = F.nll_loss(out, data.y)\n",
    "        loss.backward()\n",
    "        optimizer.step()\n",
    "        total_loss += loss.item()\n",
    "\n",
    "    print(f\"Epoch {epoch+1}, Loss: {total_loss:.4f}\")"
   ]
  },
  {
   "cell_type": "markdown",
   "id": "e93e3371-a185-46db-971d-8654adf19180",
   "metadata": {},
   "source": [
    "### Model Evaluation"
   ]
  },
  {
   "cell_type": "code",
   "execution_count": 99,
   "id": "3dfc8ada-2480-4cf6-95e7-c6e7b4971b6c",
   "metadata": {},
   "outputs": [
    {
     "name": "stdout",
     "output_type": "stream",
     "text": [
      "Test Accuracy: 0.64\n"
     ]
    }
   ],
   "source": [
    "model.eval()\n",
    "correct = 0\n",
    "for data in test_loader:\n",
    "    out = model(data.x, data.edge_index, data.batch)\n",
    "    pred = out.argmax(dim=1)\n",
    "    correct += (pred == data.y).sum().item()\n",
    "\n",
    "accuracy = correct / len(test_dataset)\n",
    "print(f\"Test Accuracy: {accuracy:.2f}\")"
   ]
  }
 ],
 "metadata": {
  "kernelspec": {
   "display_name": "Python 3 (ipykernel)",
   "language": "python",
   "name": "python3"
  },
  "language_info": {
   "codemirror_mode": {
    "name": "ipython",
    "version": 3
   },
   "file_extension": ".py",
   "mimetype": "text/x-python",
   "name": "python",
   "nbconvert_exporter": "python",
   "pygments_lexer": "ipython3",
   "version": "3.10.12"
  }
 },
 "nbformat": 4,
 "nbformat_minor": 5
}
