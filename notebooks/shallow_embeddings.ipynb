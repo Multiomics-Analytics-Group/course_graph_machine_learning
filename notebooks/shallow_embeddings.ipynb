{
 "cells": [
  {
   "cell_type": "markdown",
   "id": "d15b2796-90a7-4f8b-bebe-15d297f146e6",
   "metadata": {},
   "source": [
    "# Course 27666 AI-guided Protein Science\n",
    "\n",
    "# Graph Machine Learning"
   ]
  },
  {
   "cell_type": "markdown",
   "id": "e45c5870-15f7-4ad2-9707-ede33291676b",
   "metadata": {},
   "source": [
    "# Shallow Embeddings Methods\n",
    "## Node2Vec and DeepWalk with PyTorch Geometric (PyG)\n",
    "\n",
    "\n",
    "\n",
    "## Install PyG"
   ]
  },
  {
   "cell_type": "code",
   "execution_count": 35,
   "id": "05aae071-9691-4e97-a659-18f74c27e0c7",
   "metadata": {},
   "outputs": [],
   "source": [
    "# Uncomment and run the following commands if PyG is not installed.\n",
    "#!pip install torch torch-geometric matplotlib torch-cluster scikit-learn"
   ]
  },
  {
   "cell_type": "markdown",
   "id": "4d0cac26-880c-4978-a547-ee1927dc59a5",
   "metadata": {},
   "source": [
    "## 1. Helper Functions for Visualization"
   ]
  },
  {
   "cell_type": "code",
   "execution_count": 73,
   "id": "c030c200-1d25-4760-97a8-4191923246f3",
   "metadata": {},
   "outputs": [],
   "source": [
    "import pandas as pd\n",
    "import torch\n",
    "from torch_geometric.nn import Node2Vec\n",
    "import networkx as nx\n",
    "from torch_geometric.utils import from_networkx\n",
    "import matplotlib.pyplot as plt\n",
    "\n",
    "\n",
    "def visualize_embeddings(embeddings, labels):\n",
    "    \"\"\"\n",
    "    Visualizes node embeddings using t-SNE.\n",
    "\n",
    "    Args:\n",
    "        embeddings (torch.Tensor): Node embeddings of shape [num_nodes, embedding_dim].\n",
    "        labels (torch.Tensor): Node labels of shape [num_nodes].\n",
    "    \"\"\"\n",
    "    from sklearn.manifold import TSNE\n",
    "\n",
    "    # Apply t-SNE to reduce dimensions to 2D\n",
    "    tsne = TSNE(n_components=2, random_state=42)\n",
    "    embeddings_2d = tsne.fit_transform(embeddings.detach().cpu().numpy())\n",
    "\n",
    "    # Scatter plot of embeddings\n",
    "    plt.figure(figsize=(8, 8))\n",
    "    scatter = plt.scatter(embeddings_2d[:, 0], embeddings_2d[:, 1], c=labels, cmap=\"Set1\", s=50)\n",
    "    plt.legend(*scatter.legend_elements(), title=\"Classes\")\n",
    "    plt.title(\"t-SNE Visualization of Node Embeddings\")\n",
    "    plt.show()\n",
    "\n",
    "def create_graph(G):\n",
    "    \"\"\"\n",
    "    Creates a sample NetworkX graph and converts it to a PyTorch Geometric Data object.\n",
    "\n",
    "    Returns:\n",
    "        data (torch_geometric.data.Data): The PyG Data object containing the graph.\n",
    "        labels (torch.Tensor): Ground-truth node labels for visualization.\n",
    "    \"\"\"\n",
    "  \n",
    "    G = nx.karate_club_graph()\n",
    "\n",
    "    # Assign labels based on the club membership\n",
    "    labels = torch.tensor([G.nodes[n][\"club\"] == \"Mr. Hi\" for n in G.nodes], dtype=torch.long)\n",
    "\n",
    "    # Convert to PyG Data object\n",
    "    data = from_networkx(G)\n",
    "    data.y = labels  # Add labels to the graph data\n",
    "\n",
    "    return data, labels"
   ]
  },
  {
   "cell_type": "code",
   "execution_count": null,
   "id": "7f7ca457-4791-4a3e-84cd-2eda8b3ab2cb",
   "metadata": {},
   "outputs": [],
   "source": [
    "print(\"Creating the graph...\")\n",
    "data, labels = create_sample_graph()"
   ]
  },
  {
   "cell_type": "markdown",
   "id": "bc6082a9-c529-40d8-b7d0-81aa231059d6",
   "metadata": {},
   "source": [
    "## 2. Define Model Parameters"
   ]
  },
  {
   "cell_type": "code",
   "execution_count": 60,
   "id": "aa746a8c-58b8-4d08-a0b4-565cfcf47870",
   "metadata": {},
   "outputs": [],
   "source": [
    "embedding_dim=64 # Determines the size of the learned vector representations (embeddings) for each node in the graph\n",
    "walk_length=20 # This is a key parameter to control how deep the walks go in the graph.\n",
    "context_size=10 # Defines how many neighboring nodes (within a given distance from the current node) are used to predict the target node.\n",
    "walks_per_node=10 # Defines how many random walks are generated per node in the graph.\n",
    "num_epochs=100 "
   ]
  },
  {
   "cell_type": "markdown",
   "id": "a8fe060c-61c8-4dcf-b082-4f1a4b35d441",
   "metadata": {},
   "source": [
    "## 3. Node2Vec Implementation\n",
    "\n",
    "#### Instantiate the Node2Vec model"
   ]
  },
  {
   "cell_type": "code",
   "execution_count": 61,
   "id": "a58b9264-8bbb-4b13-9984-8ccf9269dc80",
   "metadata": {},
   "outputs": [],
   "source": [
    "# p - # Return parameter controls the likelihood of immediately revisiting the previous node during a random walk. \n",
    "# q In-out\" parameter controls the likelihood of exploring nodes that are close or far from the current node. \n",
    "model = Node2Vec(\n",
    "    edge_index=data.edge_index,\n",
    "    embedding_dim=embedding_dim,\n",
    "    walk_length=walk_length,\n",
    "    context_size=context_size,\n",
    "    walks_per_node=walks_per_node,\n",
    "    num_negative_samples=1,\n",
    "    p=0.2,\n",
    "    q=0.5,\n",
    "    sparse=True, #This parameter indicates whether to store the embeddings in sparse format or not (True - computationally efficient)\n",
    ")"
   ]
  },
  {
   "cell_type": "markdown",
   "id": "709a3e31-4ac8-4ca7-9c83-b4c224af4b5a",
   "metadata": {},
   "source": [
    "### Train the model"
   ]
  },
  {
   "cell_type": "code",
   "execution_count": 62,
   "id": "9d3294b8-2744-4cf7-b8ab-c731fd22c2ab",
   "metadata": {},
   "outputs": [
    {
     "name": "stdout",
     "output_type": "stream",
     "text": [
      "Epoch 0, Loss: 6.942193984985352\n",
      "Epoch 10, Loss: 5.5647382736206055\n",
      "Epoch 20, Loss: 4.2929840087890625\n",
      "Epoch 30, Loss: 3.0488717555999756\n",
      "Epoch 40, Loss: 2.8861241340637207\n",
      "Epoch 50, Loss: 2.5792930126190186\n",
      "Epoch 60, Loss: 2.5770885944366455\n",
      "Epoch 70, Loss: 2.2524054050445557\n",
      "Epoch 80, Loss: 2.141613006591797\n",
      "Epoch 90, Loss: 2.279317855834961\n"
     ]
    }
   ],
   "source": [
    "optimizer = torch.optim.SparseAdam(list(model.parameters()), lr=0.01)\n",
    "model.train()\n",
    "for epoch in range(num_epochs):\n",
    "    optimizer.zero_grad()\n",
    "    \n",
    "    # Sample random walks for positive and negative samples using a specific node batch\n",
    "    batch_size = 32  # Set the batch size for sampling\n",
    "    num_batches = (data.num_nodes + batch_size - 1) // batch_size  # Calculate the number of batches\n",
    "    \n",
    "    # Train on each batch of nodes\n",
    "    for i in range(num_batches):\n",
    "        # Get the current batch of nodes\n",
    "        batch_nodes = torch.arange(i * batch_size, min((i + 1) * batch_size, data.num_nodes))\n",
    "        \n",
    "        # Sample random walks for the current batch of nodes\n",
    "        # pos_rw would contain the positive samples (the node itself and its neighbors)\n",
    "        #neg_rw contains the negative samples (nodes that are not neighbors, usually sampled randomly)\n",
    "        pos_rw, neg_rw = model.sample(batch_nodes)  # Pass a batch of nodes for sampling\n",
    "        \n",
    "        # Calculate the loss for the current batch\n",
    "        loss = model.loss(pos_rw, neg_rw)\n",
    "        loss.backward()\n",
    "    \n",
    "    # Update model parameters after each batch\n",
    "    optimizer.step()\n",
    "    \n",
    "    # Print the loss at every 10th epoch\n",
    "    if epoch % 10 == 0:\n",
    "        print(f\"Epoch {epoch}, Loss: {loss.item()}\")"
   ]
  },
  {
   "cell_type": "markdown",
   "id": "19bae470-7cd4-4829-a070-4d9332659654",
   "metadata": {},
   "source": [
    "### Get the embeddings after training"
   ]
  },
  {
   "cell_type": "code",
   "execution_count": 64,
   "id": "b2266ffb-a80b-4645-9946-1dc5f22b54a7",
   "metadata": {},
   "outputs": [],
   "source": [
    "node2vec_embeddings = model.embedding.weight"
   ]
  },
  {
   "cell_type": "markdown",
   "id": "83719d42-c856-4da5-b7c6-3e2a20affcf7",
   "metadata": {},
   "source": [
    "## 4. Visualising Node2Vec Embeddings"
   ]
  },
  {
   "cell_type": "code",
   "execution_count": 65,
   "id": "25c67197-bc4c-465d-945b-56d203b8d439",
   "metadata": {},
   "outputs": [
    {
     "name": "stdout",
     "output_type": "stream",
     "text": [
      "\n",
      "Training Node2Vec...\n"
     ]
    },
    {
     "data": {
      "image/png": "[encoded data removed]",
      "text/plain": [
       "<Figure size 800x800 with 1 Axes>"
      ]
     },
     "metadata": {},
     "output_type": "display_data"
    }
   ],
   "source": [
    "visualize_embeddings(node2vec_embeddings, labels)\n"
   ]
  },
  {
   "cell_type": "markdown",
   "id": "f0db4e06-cf8f-4a56-9560-785ab9d8598d",
   "metadata": {},
   "source": [
    "## 5. DeepWalk as a Special Case of Node2Vec\n",
    "\n",
    "### Initialize Node2Vec with p=1 and q=1 (DeepWalk settings)"
   ]
  },
  {
   "cell_type": "code",
   "execution_count": 52,
   "id": "6f6c1551-dbdc-421e-b05c-80f44deeacfd",
   "metadata": {},
   "outputs": [],
   "source": [
    "# p - # Return parameter controls the likelihood of immediately revisiting the previous node during a random walk. \n",
    "# A value of 1.0 means there's no bias towards revisiting nodes, making the walk more random.\n",
    "# q In-out\" parameter controls the likelihood of exploring nodes that are close or far from the current node. \n",
    "# A value of 1.0 means that there's no bias towards either direction, and the walk is more balanced.\n",
    "model = Node2Vec(\n",
    "    edge_index=data.edge_index,\n",
    "    embedding_dim=embedding_dim,\n",
    "    walk_length=walk_length,\n",
    "    context_size=context_size,\n",
    "    walks_per_node=walks_per_node,\n",
    "    num_negative_samples=1,\n",
    "    p=1.0,  # Return parameter\n",
    "    q=1.0,  # In-out parameter\n",
    "    sparse=True\n",
    ")"
   ]
  },
  {
   "cell_type": "markdown",
   "id": "417cbc92-a913-4af4-8a29-1ba7a46a2bf9",
   "metadata": {},
   "source": [
    "### Train the model"
   ]
  },
  {
   "cell_type": "code",
   "execution_count": 66,
   "id": "91ed0c57-05f6-4934-849c-d256ea35c801",
   "metadata": {},
   "outputs": [
    {
     "name": "stdout",
     "output_type": "stream",
     "text": [
      "Epoch 0, Loss: 2.217787504196167\n",
      "Epoch 10, Loss: 1.9960956573486328\n",
      "Epoch 20, Loss: 1.953965425491333\n",
      "Epoch 30, Loss: 2.0914649963378906\n",
      "Epoch 40, Loss: 1.9845225811004639\n",
      "Epoch 50, Loss: 2.122910737991333\n",
      "Epoch 60, Loss: 2.0817089080810547\n",
      "Epoch 70, Loss: 2.1663856506347656\n",
      "Epoch 80, Loss: 2.1824443340301514\n",
      "Epoch 90, Loss: 2.147550582885742\n"
     ]
    }
   ],
   "source": [
    "optimizer = torch.optim.SparseAdam(list(model.parameters()), lr=0.01)\n",
    "\n",
    "model.train()\n",
    "for epoch in range(num_epochs):\n",
    "    optimizer.zero_grad()\n",
    "    \n",
    "    # Sample random walks for positive and negative samples using a specific node batch\n",
    "    batch_size = 32  # Set the batch size for sampling\n",
    "    num_batches = (data.num_nodes + batch_size - 1) // batch_size  # Calculate the number of batches\n",
    "    \n",
    "    # Train on each batch of nodes\n",
    "    for i in range(num_batches):\n",
    "        # Get the current batch of nodes\n",
    "        batch_nodes = torch.arange(i * batch_size, min((i + 1) * batch_size, data.num_nodes))\n",
    "        \n",
    "        # Sample random walks for the current batch of nodes\n",
    "        pos_rw, neg_rw = model.sample(batch_nodes)  # Pass a batch of nodes for sampling\n",
    "        \n",
    "        # Calculate the loss for the current batch\n",
    "        loss = model.loss(pos_rw, neg_rw)\n",
    "        loss.backward()\n",
    "    \n",
    "    # Update model parameters after each batch\n",
    "    optimizer.step()\n",
    "    \n",
    "    # Print the loss at every 10th epoch\n",
    "    if epoch % 10 == 0:\n",
    "        print(f\"Epoch {epoch}, Loss: {loss.item()}\")"
   ]
  },
  {
   "cell_type": "markdown",
   "id": "2384e88a-84d0-4ee3-bc87-547c28b5e566",
   "metadata": {},
   "source": [
    "### Get the embeddings after training"
   ]
  },
  {
   "cell_type": "code",
   "execution_count": 68,
   "id": "86333431-a7ed-4c9e-bd53-1e9f6937baf2",
   "metadata": {},
   "outputs": [],
   "source": [
    "deepwalk_embeddings = model.embedding.weight  # Corrected line to access learned embeddings"
   ]
  },
  {
   "cell_type": "markdown",
   "id": "6d5a50ee-ef31-4751-8957-d5b5ecd7fb7e",
   "metadata": {},
   "source": [
    "## 4. Running and Visualizing the Models"
   ]
  },
  {
   "cell_type": "code",
   "execution_count": 69,
   "id": "4edc4358-1708-41b2-83e3-3ad6cabdcf31",
   "metadata": {},
   "outputs": [
    {
     "name": "stdout",
     "output_type": "stream",
     "text": [
      "\n",
      "Visualizing DeepWalk Embeddings...\n"
     ]
    },
    {
     "data": {
      "image/png": "[encoded data removed]",
      "text/plain": [
       "<Figure size 800x800 with 1 Axes>"
      ]
     },
     "metadata": {},
     "output_type": "display_data"
    }
   ],
   "source": [
    "print(\"\\nVisualizing DeepWalk Embeddings...\")\n",
    "visualize_embeddings(deepwalk_embeddings, labels)"
   ]
  },
  {
   "cell_type": "code",
   "execution_count": null,
   "id": "0ca71964-8419-4796-ac8a-d5677cead1cd",
   "metadata": {},
   "outputs": [],
   "source": []
  }
 ],
 "metadata": {
  "kernelspec": {
   "display_name": "Python 3 (ipykernel)",
   "language": "python",
   "name": "python3"
  },
  "language_info": {
   "codemirror_mode": {
    "name": "ipython",
    "version": 3
   },
   "file_extension": ".py",
   "mimetype": "text/x-python",
   "name": "python",
   "nbconvert_exporter": "python",
   "pygments_lexer": "ipython3",
   "version": "3.10.12"
  }
 },
 "nbformat": 4,
 "nbformat_minor": 5
}
